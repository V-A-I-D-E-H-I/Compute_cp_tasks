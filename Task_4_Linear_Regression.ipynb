{
  "nbformat": 4,
  "nbformat_minor": 0,
  "metadata": {
    "colab": {
      "provenance": []
    },
    "kernelspec": {
      "name": "python3",
      "display_name": "Python 3"
    },
    "language_info": {
      "name": "python"
    }
  },
  "cells": [
    {
      "cell_type": "markdown",
      "source": [
        "# Linear Regression\n",
        "Implementing Linear Regression for predicting profit of a food truck given the population and profits of different cities\n"
      ],
      "metadata": {
        "id": "XbA5XjSilR4j"
      }
    },
    {
      "cell_type": "code",
      "execution_count": 35,
      "metadata": {
        "id": "5_cw35relJgl"
      },
      "outputs": [],
      "source": [
        "import pandas as pd\n",
        "import numpy as np\n",
        "import matplotlib.pyplot as plt\n",
        "%matplotlib inline\n",
        "from sklearn.linear_model import LinearRegression\n",
        "from sklearn.metrics import r2_score,mean_squared_error\n"
      ]
    },
    {
      "cell_type": "code",
      "source": [
        "#in dataset both the column has values in multiple of 10k"
      ],
      "metadata": {
        "id": "36GyLOkigQAq"
      },
      "execution_count": 36,
      "outputs": []
    },
    {
      "cell_type": "markdown",
      "source": [
        "### Reading the dataset"
      ],
      "metadata": {
        "id": "6WCVaXe8lll3"
      }
    },
    {
      "cell_type": "code",
      "source": [
        "#load dataset\n",
        "df = pd.read_csv(\"/content/Data1.txt\")\n",
        "#naming the columns\n",
        "df.columns=['Population','Profit']\n",
        "df"
      ],
      "metadata": {
        "id": "i4huSnTRloPT",
        "colab": {
          "base_uri": "https://localhost:8080/",
          "height": 423
        },
        "outputId": "086d724e-cd97-4e5d-a4f3-2168fd3e94f6"
      },
      "execution_count": 37,
      "outputs": [
        {
          "output_type": "execute_result",
          "data": {
            "text/plain": [
              "    Population    Profit\n",
              "0       5.5277   9.13020\n",
              "1       8.5186  13.66200\n",
              "2       7.0032  11.85400\n",
              "3       5.8598   6.82330\n",
              "4       8.3829  11.88600\n",
              "..         ...       ...\n",
              "91      5.8707   7.20290\n",
              "92      5.3054   1.98690\n",
              "93      8.2934   0.14454\n",
              "94     13.3940   9.05510\n",
              "95      5.4369   0.61705\n",
              "\n",
              "[96 rows x 2 columns]"
            ],
            "text/html": [
              "\n",
              "  <div id=\"df-3c871391-f72c-4daa-a775-6f561df013ea\">\n",
              "    <div class=\"colab-df-container\">\n",
              "      <div>\n",
              "<style scoped>\n",
              "    .dataframe tbody tr th:only-of-type {\n",
              "        vertical-align: middle;\n",
              "    }\n",
              "\n",
              "    .dataframe tbody tr th {\n",
              "        vertical-align: top;\n",
              "    }\n",
              "\n",
              "    .dataframe thead th {\n",
              "        text-align: right;\n",
              "    }\n",
              "</style>\n",
              "<table border=\"1\" class=\"dataframe\">\n",
              "  <thead>\n",
              "    <tr style=\"text-align: right;\">\n",
              "      <th></th>\n",
              "      <th>Population</th>\n",
              "      <th>Profit</th>\n",
              "    </tr>\n",
              "  </thead>\n",
              "  <tbody>\n",
              "    <tr>\n",
              "      <th>0</th>\n",
              "      <td>5.5277</td>\n",
              "      <td>9.13020</td>\n",
              "    </tr>\n",
              "    <tr>\n",
              "      <th>1</th>\n",
              "      <td>8.5186</td>\n",
              "      <td>13.66200</td>\n",
              "    </tr>\n",
              "    <tr>\n",
              "      <th>2</th>\n",
              "      <td>7.0032</td>\n",
              "      <td>11.85400</td>\n",
              "    </tr>\n",
              "    <tr>\n",
              "      <th>3</th>\n",
              "      <td>5.8598</td>\n",
              "      <td>6.82330</td>\n",
              "    </tr>\n",
              "    <tr>\n",
              "      <th>4</th>\n",
              "      <td>8.3829</td>\n",
              "      <td>11.88600</td>\n",
              "    </tr>\n",
              "    <tr>\n",
              "      <th>...</th>\n",
              "      <td>...</td>\n",
              "      <td>...</td>\n",
              "    </tr>\n",
              "    <tr>\n",
              "      <th>91</th>\n",
              "      <td>5.8707</td>\n",
              "      <td>7.20290</td>\n",
              "    </tr>\n",
              "    <tr>\n",
              "      <th>92</th>\n",
              "      <td>5.3054</td>\n",
              "      <td>1.98690</td>\n",
              "    </tr>\n",
              "    <tr>\n",
              "      <th>93</th>\n",
              "      <td>8.2934</td>\n",
              "      <td>0.14454</td>\n",
              "    </tr>\n",
              "    <tr>\n",
              "      <th>94</th>\n",
              "      <td>13.3940</td>\n",
              "      <td>9.05510</td>\n",
              "    </tr>\n",
              "    <tr>\n",
              "      <th>95</th>\n",
              "      <td>5.4369</td>\n",
              "      <td>0.61705</td>\n",
              "    </tr>\n",
              "  </tbody>\n",
              "</table>\n",
              "<p>96 rows × 2 columns</p>\n",
              "</div>\n",
              "      <button class=\"colab-df-convert\" onclick=\"convertToInteractive('df-3c871391-f72c-4daa-a775-6f561df013ea')\"\n",
              "              title=\"Convert this dataframe to an interactive table.\"\n",
              "              style=\"display:none;\">\n",
              "        \n",
              "  <svg xmlns=\"http://www.w3.org/2000/svg\" height=\"24px\"viewBox=\"0 0 24 24\"\n",
              "       width=\"24px\">\n",
              "    <path d=\"M0 0h24v24H0V0z\" fill=\"none\"/>\n",
              "    <path d=\"M18.56 5.44l.94 2.06.94-2.06 2.06-.94-2.06-.94-.94-2.06-.94 2.06-2.06.94zm-11 1L8.5 8.5l.94-2.06 2.06-.94-2.06-.94L8.5 2.5l-.94 2.06-2.06.94zm10 10l.94 2.06.94-2.06 2.06-.94-2.06-.94-.94-2.06-.94 2.06-2.06.94z\"/><path d=\"M17.41 7.96l-1.37-1.37c-.4-.4-.92-.59-1.43-.59-.52 0-1.04.2-1.43.59L10.3 9.45l-7.72 7.72c-.78.78-.78 2.05 0 2.83L4 21.41c.39.39.9.59 1.41.59.51 0 1.02-.2 1.41-.59l7.78-7.78 2.81-2.81c.8-.78.8-2.07 0-2.86zM5.41 20L4 18.59l7.72-7.72 1.47 1.35L5.41 20z\"/>\n",
              "  </svg>\n",
              "      </button>\n",
              "      \n",
              "  <style>\n",
              "    .colab-df-container {\n",
              "      display:flex;\n",
              "      flex-wrap:wrap;\n",
              "      gap: 12px;\n",
              "    }\n",
              "\n",
              "    .colab-df-convert {\n",
              "      background-color: #E8F0FE;\n",
              "      border: none;\n",
              "      border-radius: 50%;\n",
              "      cursor: pointer;\n",
              "      display: none;\n",
              "      fill: #1967D2;\n",
              "      height: 32px;\n",
              "      padding: 0 0 0 0;\n",
              "      width: 32px;\n",
              "    }\n",
              "\n",
              "    .colab-df-convert:hover {\n",
              "      background-color: #E2EBFA;\n",
              "      box-shadow: 0px 1px 2px rgba(60, 64, 67, 0.3), 0px 1px 3px 1px rgba(60, 64, 67, 0.15);\n",
              "      fill: #174EA6;\n",
              "    }\n",
              "\n",
              "    [theme=dark] .colab-df-convert {\n",
              "      background-color: #3B4455;\n",
              "      fill: #D2E3FC;\n",
              "    }\n",
              "\n",
              "    [theme=dark] .colab-df-convert:hover {\n",
              "      background-color: #434B5C;\n",
              "      box-shadow: 0px 1px 3px 1px rgba(0, 0, 0, 0.15);\n",
              "      filter: drop-shadow(0px 1px 2px rgba(0, 0, 0, 0.3));\n",
              "      fill: #FFFFFF;\n",
              "    }\n",
              "  </style>\n",
              "\n",
              "      <script>\n",
              "        const buttonEl =\n",
              "          document.querySelector('#df-3c871391-f72c-4daa-a775-6f561df013ea button.colab-df-convert');\n",
              "        buttonEl.style.display =\n",
              "          google.colab.kernel.accessAllowed ? 'block' : 'none';\n",
              "\n",
              "        async function convertToInteractive(key) {\n",
              "          const element = document.querySelector('#df-3c871391-f72c-4daa-a775-6f561df013ea');\n",
              "          const dataTable =\n",
              "            await google.colab.kernel.invokeFunction('convertToInteractive',\n",
              "                                                     [key], {});\n",
              "          if (!dataTable) return;\n",
              "\n",
              "          const docLinkHtml = 'Like what you see? Visit the ' +\n",
              "            '<a target=\"_blank\" href=https://colab.research.google.com/notebooks/data_table.ipynb>data table notebook</a>'\n",
              "            + ' to learn more about interactive tables.';\n",
              "          element.innerHTML = '';\n",
              "          dataTable['output_type'] = 'display_data';\n",
              "          await google.colab.output.renderOutput(dataTable, element);\n",
              "          const docLink = document.createElement('div');\n",
              "          docLink.innerHTML = docLinkHtml;\n",
              "          element.appendChild(docLink);\n",
              "        }\n",
              "      </script>\n",
              "    </div>\n",
              "  </div>\n",
              "  "
            ]
          },
          "metadata": {},
          "execution_count": 37
        }
      ]
    },
    {
      "cell_type": "code",
      "source": [
        "#describe the dataframe\n",
        "df.describe()"
      ],
      "metadata": {
        "id": "JgiJnNwDlpRM",
        "colab": {
          "base_uri": "https://localhost:8080/",
          "height": 300
        },
        "outputId": "cc54766d-90f8-4c46-fc3f-b04ee1a38a5e"
      },
      "execution_count": 38,
      "outputs": [
        {
          "output_type": "execute_result",
          "data": {
            "text/plain": [
              "       Population     Profit\n",
              "count   96.000000  96.000000\n",
              "mean     8.181151   5.716709\n",
              "std      3.884451   5.404947\n",
              "min      5.026900  -2.680700\n",
              "25%      5.690950   1.952550\n",
              "50%      6.735950   4.455300\n",
              "75%      8.639925   6.879150\n",
              "max     22.203000  24.147000"
            ],
            "text/html": [
              "\n",
              "  <div id=\"df-2a6f5bc0-8092-4654-9f69-72a788a44adb\">\n",
              "    <div class=\"colab-df-container\">\n",
              "      <div>\n",
              "<style scoped>\n",
              "    .dataframe tbody tr th:only-of-type {\n",
              "        vertical-align: middle;\n",
              "    }\n",
              "\n",
              "    .dataframe tbody tr th {\n",
              "        vertical-align: top;\n",
              "    }\n",
              "\n",
              "    .dataframe thead th {\n",
              "        text-align: right;\n",
              "    }\n",
              "</style>\n",
              "<table border=\"1\" class=\"dataframe\">\n",
              "  <thead>\n",
              "    <tr style=\"text-align: right;\">\n",
              "      <th></th>\n",
              "      <th>Population</th>\n",
              "      <th>Profit</th>\n",
              "    </tr>\n",
              "  </thead>\n",
              "  <tbody>\n",
              "    <tr>\n",
              "      <th>count</th>\n",
              "      <td>96.000000</td>\n",
              "      <td>96.000000</td>\n",
              "    </tr>\n",
              "    <tr>\n",
              "      <th>mean</th>\n",
              "      <td>8.181151</td>\n",
              "      <td>5.716709</td>\n",
              "    </tr>\n",
              "    <tr>\n",
              "      <th>std</th>\n",
              "      <td>3.884451</td>\n",
              "      <td>5.404947</td>\n",
              "    </tr>\n",
              "    <tr>\n",
              "      <th>min</th>\n",
              "      <td>5.026900</td>\n",
              "      <td>-2.680700</td>\n",
              "    </tr>\n",
              "    <tr>\n",
              "      <th>25%</th>\n",
              "      <td>5.690950</td>\n",
              "      <td>1.952550</td>\n",
              "    </tr>\n",
              "    <tr>\n",
              "      <th>50%</th>\n",
              "      <td>6.735950</td>\n",
              "      <td>4.455300</td>\n",
              "    </tr>\n",
              "    <tr>\n",
              "      <th>75%</th>\n",
              "      <td>8.639925</td>\n",
              "      <td>6.879150</td>\n",
              "    </tr>\n",
              "    <tr>\n",
              "      <th>max</th>\n",
              "      <td>22.203000</td>\n",
              "      <td>24.147000</td>\n",
              "    </tr>\n",
              "  </tbody>\n",
              "</table>\n",
              "</div>\n",
              "      <button class=\"colab-df-convert\" onclick=\"convertToInteractive('df-2a6f5bc0-8092-4654-9f69-72a788a44adb')\"\n",
              "              title=\"Convert this dataframe to an interactive table.\"\n",
              "              style=\"display:none;\">\n",
              "        \n",
              "  <svg xmlns=\"http://www.w3.org/2000/svg\" height=\"24px\"viewBox=\"0 0 24 24\"\n",
              "       width=\"24px\">\n",
              "    <path d=\"M0 0h24v24H0V0z\" fill=\"none\"/>\n",
              "    <path d=\"M18.56 5.44l.94 2.06.94-2.06 2.06-.94-2.06-.94-.94-2.06-.94 2.06-2.06.94zm-11 1L8.5 8.5l.94-2.06 2.06-.94-2.06-.94L8.5 2.5l-.94 2.06-2.06.94zm10 10l.94 2.06.94-2.06 2.06-.94-2.06-.94-.94-2.06-.94 2.06-2.06.94z\"/><path d=\"M17.41 7.96l-1.37-1.37c-.4-.4-.92-.59-1.43-.59-.52 0-1.04.2-1.43.59L10.3 9.45l-7.72 7.72c-.78.78-.78 2.05 0 2.83L4 21.41c.39.39.9.59 1.41.59.51 0 1.02-.2 1.41-.59l7.78-7.78 2.81-2.81c.8-.78.8-2.07 0-2.86zM5.41 20L4 18.59l7.72-7.72 1.47 1.35L5.41 20z\"/>\n",
              "  </svg>\n",
              "      </button>\n",
              "      \n",
              "  <style>\n",
              "    .colab-df-container {\n",
              "      display:flex;\n",
              "      flex-wrap:wrap;\n",
              "      gap: 12px;\n",
              "    }\n",
              "\n",
              "    .colab-df-convert {\n",
              "      background-color: #E8F0FE;\n",
              "      border: none;\n",
              "      border-radius: 50%;\n",
              "      cursor: pointer;\n",
              "      display: none;\n",
              "      fill: #1967D2;\n",
              "      height: 32px;\n",
              "      padding: 0 0 0 0;\n",
              "      width: 32px;\n",
              "    }\n",
              "\n",
              "    .colab-df-convert:hover {\n",
              "      background-color: #E2EBFA;\n",
              "      box-shadow: 0px 1px 2px rgba(60, 64, 67, 0.3), 0px 1px 3px 1px rgba(60, 64, 67, 0.15);\n",
              "      fill: #174EA6;\n",
              "    }\n",
              "\n",
              "    [theme=dark] .colab-df-convert {\n",
              "      background-color: #3B4455;\n",
              "      fill: #D2E3FC;\n",
              "    }\n",
              "\n",
              "    [theme=dark] .colab-df-convert:hover {\n",
              "      background-color: #434B5C;\n",
              "      box-shadow: 0px 1px 3px 1px rgba(0, 0, 0, 0.15);\n",
              "      filter: drop-shadow(0px 1px 2px rgba(0, 0, 0, 0.3));\n",
              "      fill: #FFFFFF;\n",
              "    }\n",
              "  </style>\n",
              "\n",
              "      <script>\n",
              "        const buttonEl =\n",
              "          document.querySelector('#df-2a6f5bc0-8092-4654-9f69-72a788a44adb button.colab-df-convert');\n",
              "        buttonEl.style.display =\n",
              "          google.colab.kernel.accessAllowed ? 'block' : 'none';\n",
              "\n",
              "        async function convertToInteractive(key) {\n",
              "          const element = document.querySelector('#df-2a6f5bc0-8092-4654-9f69-72a788a44adb');\n",
              "          const dataTable =\n",
              "            await google.colab.kernel.invokeFunction('convertToInteractive',\n",
              "                                                     [key], {});\n",
              "          if (!dataTable) return;\n",
              "\n",
              "          const docLinkHtml = 'Like what you see? Visit the ' +\n",
              "            '<a target=\"_blank\" href=https://colab.research.google.com/notebooks/data_table.ipynb>data table notebook</a>'\n",
              "            + ' to learn more about interactive tables.';\n",
              "          element.innerHTML = '';\n",
              "          dataTable['output_type'] = 'display_data';\n",
              "          await google.colab.output.renderOutput(dataTable, element);\n",
              "          const docLink = document.createElement('div');\n",
              "          docLink.innerHTML = docLinkHtml;\n",
              "          element.appendChild(docLink);\n",
              "        }\n",
              "      </script>\n",
              "    </div>\n",
              "  </div>\n",
              "  "
            ]
          },
          "metadata": {},
          "execution_count": 38
        }
      ]
    },
    {
      "cell_type": "markdown",
      "source": [
        "### Scatter plot of Population vs Profit"
      ],
      "metadata": {
        "id": "-utpyHE8l8XX"
      }
    },
    {
      "cell_type": "code",
      "source": [
        "#plot\n",
        "plt.figure(figsize=(17,10))\n",
        "plt.scatter(df.Population,df.Profit)\n",
        "plt.xlabel(\"Population\")\n",
        "plt.ylabel(\"Profit\")\n",
        "\n",
        "# what and why is the Text(0, 0.5, 'Profit') being printed? i also noted that if i write plt.show() its not printed"
      ],
      "metadata": {
        "id": "WU2e_EBIl7nO",
        "colab": {
          "base_uri": "https://localhost:8080/",
          "height": 624
        },
        "outputId": "8ad37ea2-3537-4fde-f78b-10865cb7868f"
      },
      "execution_count": 39,
      "outputs": [
        {
          "output_type": "execute_result",
          "data": {
            "text/plain": [
              "Text(0, 0.5, 'Profit')"
            ]
          },
          "metadata": {},
          "execution_count": 39
        },
        {
          "output_type": "display_data",
          "data": {
            "text/plain": [
              "<Figure size 1224x720 with 1 Axes>"
            ],
            "image/png": "[encoded data removed]"
          },
          "metadata": {
            "needs_background": "light"
          }
        }
      ]
    },
    {
      "cell_type": "code",
      "source": [],
      "metadata": {
        "id": "U89MM9l2mQF6"
      },
      "execution_count": 39,
      "outputs": []
    },
    {
      "cell_type": "markdown",
      "source": [
        "### Function to compute the cost function "
      ],
      "metadata": {
        "id": "iGFXAq_YoWZq"
      }
    },
    {
      "cell_type": "code",
      "source": [
        "### Function to compute the cost function\n",
        "\n",
        "def computeCost(X, y, theta):\n",
        "    inner_product = np.power(((X * theta.T) - y) , 2)\n",
        "    return np.sum(inner_product) / (2 * len(X))\n"
      ],
      "metadata": {
        "id": "_8d1sdJmoVGb"
      },
      "execution_count": 40,
      "outputs": []
    },
    {
      "cell_type": "markdown",
      "source": [
        "### Appending 1s to the front of the dataset"
      ],
      "metadata": {
        "id": "v31Nvikf2xYm"
      }
    },
    {
      "cell_type": "code",
      "source": [
        "#insert column with 1s\n",
        "df.insert(0, 'Column of 1s', 1)\n",
        "df"
      ],
      "metadata": {
        "id": "XQlQ0VvR23gJ",
        "colab": {
          "base_uri": "https://localhost:8080/",
          "height": 423
        },
        "outputId": "c72486e5-2629-4672-dde9-b540d45997b6"
      },
      "execution_count": 41,
      "outputs": [
        {
          "output_type": "execute_result",
          "data": {
            "text/plain": [
              "    Column of 1s  Population    Profit\n",
              "0              1      5.5277   9.13020\n",
              "1              1      8.5186  13.66200\n",
              "2              1      7.0032  11.85400\n",
              "3              1      5.8598   6.82330\n",
              "4              1      8.3829  11.88600\n",
              "..           ...         ...       ...\n",
              "91             1      5.8707   7.20290\n",
              "92             1      5.3054   1.98690\n",
              "93             1      8.2934   0.14454\n",
              "94             1     13.3940   9.05510\n",
              "95             1      5.4369   0.61705\n",
              "\n",
              "[96 rows x 3 columns]"
            ],
            "text/html": [
              "\n",
              "  <div id=\"df-f9810bd9-5298-445e-86eb-892063d2b399\">\n",
              "    <div class=\"colab-df-container\">\n",
              "      <div>\n",
              "<style scoped>\n",
              "    .dataframe tbody tr th:only-of-type {\n",
              "        vertical-align: middle;\n",
              "    }\n",
              "\n",
              "    .dataframe tbody tr th {\n",
              "        vertical-align: top;\n",
              "    }\n",
              "\n",
              "    .dataframe thead th {\n",
              "        text-align: right;\n",
              "    }\n",
              "</style>\n",
              "<table border=\"1\" class=\"dataframe\">\n",
              "  <thead>\n",
              "    <tr style=\"text-align: right;\">\n",
              "      <th></th>\n",
              "      <th>Column of 1s</th>\n",
              "      <th>Population</th>\n",
              "      <th>Profit</th>\n",
              "    </tr>\n",
              "  </thead>\n",
              "  <tbody>\n",
              "    <tr>\n",
              "      <th>0</th>\n",
              "      <td>1</td>\n",
              "      <td>5.5277</td>\n",
              "      <td>9.13020</td>\n",
              "    </tr>\n",
              "    <tr>\n",
              "      <th>1</th>\n",
              "      <td>1</td>\n",
              "      <td>8.5186</td>\n",
              "      <td>13.66200</td>\n",
              "    </tr>\n",
              "    <tr>\n",
              "      <th>2</th>\n",
              "      <td>1</td>\n",
              "      <td>7.0032</td>\n",
              "      <td>11.85400</td>\n",
              "    </tr>\n",
              "    <tr>\n",
              "      <th>3</th>\n",
              "      <td>1</td>\n",
              "      <td>5.8598</td>\n",
              "      <td>6.82330</td>\n",
              "    </tr>\n",
              "    <tr>\n",
              "      <th>4</th>\n",
              "      <td>1</td>\n",
              "      <td>8.3829</td>\n",
              "      <td>11.88600</td>\n",
              "    </tr>\n",
              "    <tr>\n",
              "      <th>...</th>\n",
              "      <td>...</td>\n",
              "      <td>...</td>\n",
              "      <td>...</td>\n",
              "    </tr>\n",
              "    <tr>\n",
              "      <th>91</th>\n",
              "      <td>1</td>\n",
              "      <td>5.8707</td>\n",
              "      <td>7.20290</td>\n",
              "    </tr>\n",
              "    <tr>\n",
              "      <th>92</th>\n",
              "      <td>1</td>\n",
              "      <td>5.3054</td>\n",
              "      <td>1.98690</td>\n",
              "    </tr>\n",
              "    <tr>\n",
              "      <th>93</th>\n",
              "      <td>1</td>\n",
              "      <td>8.2934</td>\n",
              "      <td>0.14454</td>\n",
              "    </tr>\n",
              "    <tr>\n",
              "      <th>94</th>\n",
              "      <td>1</td>\n",
              "      <td>13.3940</td>\n",
              "      <td>9.05510</td>\n",
              "    </tr>\n",
              "    <tr>\n",
              "      <th>95</th>\n",
              "      <td>1</td>\n",
              "      <td>5.4369</td>\n",
              "      <td>0.61705</td>\n",
              "    </tr>\n",
              "  </tbody>\n",
              "</table>\n",
              "<p>96 rows × 3 columns</p>\n",
              "</div>\n",
              "      <button class=\"colab-df-convert\" onclick=\"convertToInteractive('df-f9810bd9-5298-445e-86eb-892063d2b399')\"\n",
              "              title=\"Convert this dataframe to an interactive table.\"\n",
              "              style=\"display:none;\">\n",
              "        \n",
              "  <svg xmlns=\"http://www.w3.org/2000/svg\" height=\"24px\"viewBox=\"0 0 24 24\"\n",
              "       width=\"24px\">\n",
              "    <path d=\"M0 0h24v24H0V0z\" fill=\"none\"/>\n",
              "    <path d=\"M18.56 5.44l.94 2.06.94-2.06 2.06-.94-2.06-.94-.94-2.06-.94 2.06-2.06.94zm-11 1L8.5 8.5l.94-2.06 2.06-.94-2.06-.94L8.5 2.5l-.94 2.06-2.06.94zm10 10l.94 2.06.94-2.06 2.06-.94-2.06-.94-.94-2.06-.94 2.06-2.06.94z\"/><path d=\"M17.41 7.96l-1.37-1.37c-.4-.4-.92-.59-1.43-.59-.52 0-1.04.2-1.43.59L10.3 9.45l-7.72 7.72c-.78.78-.78 2.05 0 2.83L4 21.41c.39.39.9.59 1.41.59.51 0 1.02-.2 1.41-.59l7.78-7.78 2.81-2.81c.8-.78.8-2.07 0-2.86zM5.41 20L4 18.59l7.72-7.72 1.47 1.35L5.41 20z\"/>\n",
              "  </svg>\n",
              "      </button>\n",
              "      \n",
              "  <style>\n",
              "    .colab-df-container {\n",
              "      display:flex;\n",
              "      flex-wrap:wrap;\n",
              "      gap: 12px;\n",
              "    }\n",
              "\n",
              "    .colab-df-convert {\n",
              "      background-color: #E8F0FE;\n",
              "      border: none;\n",
              "      border-radius: 50%;\n",
              "      cursor: pointer;\n",
              "      display: none;\n",
              "      fill: #1967D2;\n",
              "      height: 32px;\n",
              "      padding: 0 0 0 0;\n",
              "      width: 32px;\n",
              "    }\n",
              "\n",
              "    .colab-df-convert:hover {\n",
              "      background-color: #E2EBFA;\n",
              "      box-shadow: 0px 1px 2px rgba(60, 64, 67, 0.3), 0px 1px 3px 1px rgba(60, 64, 67, 0.15);\n",
              "      fill: #174EA6;\n",
              "    }\n",
              "\n",
              "    [theme=dark] .colab-df-convert {\n",
              "      background-color: #3B4455;\n",
              "      fill: #D2E3FC;\n",
              "    }\n",
              "\n",
              "    [theme=dark] .colab-df-convert:hover {\n",
              "      background-color: #434B5C;\n",
              "      box-shadow: 0px 1px 3px 1px rgba(0, 0, 0, 0.15);\n",
              "      filter: drop-shadow(0px 1px 2px rgba(0, 0, 0, 0.3));\n",
              "      fill: #FFFFFF;\n",
              "    }\n",
              "  </style>\n",
              "\n",
              "      <script>\n",
              "        const buttonEl =\n",
              "          document.querySelector('#df-f9810bd9-5298-445e-86eb-892063d2b399 button.colab-df-convert');\n",
              "        buttonEl.style.display =\n",
              "          google.colab.kernel.accessAllowed ? 'block' : 'none';\n",
              "\n",
              "        async function convertToInteractive(key) {\n",
              "          const element = document.querySelector('#df-f9810bd9-5298-445e-86eb-892063d2b399');\n",
              "          const dataTable =\n",
              "            await google.colab.kernel.invokeFunction('convertToInteractive',\n",
              "                                                     [key], {});\n",
              "          if (!dataTable) return;\n",
              "\n",
              "          const docLinkHtml = 'Like what you see? Visit the ' +\n",
              "            '<a target=\"_blank\" href=https://colab.research.google.com/notebooks/data_table.ipynb>data table notebook</a>'\n",
              "            + ' to learn more about interactive tables.';\n",
              "          element.innerHTML = '';\n",
              "          dataTable['output_type'] = 'display_data';\n",
              "          await google.colab.output.renderOutput(dataTable, element);\n",
              "          const docLink = document.createElement('div');\n",
              "          docLink.innerHTML = docLinkHtml;\n",
              "          element.appendChild(docLink);\n",
              "        }\n",
              "      </script>\n",
              "    </div>\n",
              "  </div>\n",
              "  "
            ]
          },
          "metadata": {},
          "execution_count": 41
        }
      ]
    },
    {
      "cell_type": "markdown",
      "source": [
        "### Set training data (X) and target variable (y)"
      ],
      "metadata": {
        "id": "HQbvSZFcsExq"
      }
    },
    {
      "cell_type": "code",
      "source": [
        "noc=df.shape[1]\n",
        "x=df.iloc[:,0:noc-1] #all rows of first column\n",
        "x.head()\n",
        "print(x.shape)"
      ],
      "metadata": {
        "id": "WVCVPoznsMms",
        "colab": {
          "base_uri": "https://localhost:8080/"
        },
        "outputId": "f453d1d8-bb0f-4005-9ae7-018fc2b8e535"
      },
      "execution_count": 42,
      "outputs": [
        {
          "output_type": "stream",
          "name": "stdout",
          "text": [
            "(96, 2)\n"
          ]
        }
      ]
    },
    {
      "cell_type": "code",
      "source": [
        "y=df.iloc[:,noc-1:] #all rows of second column\n",
        "y.head()\n",
        "print(y.shape)"
      ],
      "metadata": {
        "id": "9b47Z-VUsRAq",
        "colab": {
          "base_uri": "https://localhost:8080/"
        },
        "outputId": "01e9823a-94dc-46c6-ab07-644560550f58"
      },
      "execution_count": 43,
      "outputs": [
        {
          "output_type": "stream",
          "name": "stdout",
          "text": [
            "(96, 1)\n"
          ]
        }
      ]
    },
    {
      "cell_type": "markdown",
      "source": [
        "### Converting dataframe to numpy matrices and creating a parameter (theta) matrix"
      ],
      "metadata": {
        "id": "bY6E4Mc2sSSC"
      }
    },
    {
      "cell_type": "code",
      "source": [
        "#converting x,y into numpy matrix\n",
        "xmat = np.matrix(x.values)\n",
        "ymat = np.matrix(y.values)\n",
        "print(type(xmat))\n",
        "print(\"Dimension=\",xmat.ndim)\n",
        "print(\"Shape=\",xmat.shape)\n",
        "print(\"Shape=\",ymat.shape)"
      ],
      "metadata": {
        "id": "qr-CsrRAsV0_",
        "colab": {
          "base_uri": "https://localhost:8080/"
        },
        "outputId": "2867ef26-f0a4-4ec3-a50d-ce2b3f4537ef"
      },
      "execution_count": 44,
      "outputs": [
        {
          "output_type": "stream",
          "name": "stdout",
          "text": [
            "<class 'numpy.matrix'>\n",
            "Dimension= 2\n",
            "Shape= (96, 2)\n",
            "Shape= (96, 1)\n"
          ]
        }
      ]
    },
    {
      "cell_type": "code",
      "source": [
        "#converting theta into numpy matrix\n",
        "#take initial values as [0,0] for theta\n",
        "theta = np.matrix(np.array([0,0]))\n",
        "print(type(theta))\n",
        "print(\"Dimension=\",theta.ndim)\n",
        "print(\"Shape=\",theta.shape)\n",
        "theta\n"
      ],
      "metadata": {
        "id": "xgRDEMANaCGu",
        "colab": {
          "base_uri": "https://localhost:8080/"
        },
        "outputId": "be418bff-575c-4b31-a792-7e40c2f4287d"
      },
      "execution_count": 45,
      "outputs": [
        {
          "output_type": "stream",
          "name": "stdout",
          "text": [
            "<class 'numpy.matrix'>\n",
            "Dimension= 2\n",
            "Shape= (1, 2)\n"
          ]
        },
        {
          "output_type": "execute_result",
          "data": {
            "text/plain": [
              "matrix([[0, 0]])"
            ]
          },
          "metadata": {},
          "execution_count": 45
        }
      ]
    },
    {
      "cell_type": "markdown",
      "source": [
        "### Function to perform gradient descent on parameters theta by repeatedly updating the parameters"
      ],
      "metadata": {
        "id": "cbfeP2qas_4o"
      }
    },
    {
      "cell_type": "code",
      "source": [
        "def gradientDescent(x, y, theta, alpha, iters):\n",
        "    temp = np.matrix(np.zeros(theta.shape))\n",
        "    parameters = int(theta.ravel().shape[1])\n",
        "    cost = np.zeros(iters)\n",
        "    \n",
        "    # With each iteration, we are calculating the changes to be made to the\n",
        "    # parameter (theta) value to reduce the error (cost)\n",
        "\n",
        "    for i in range(iters):\n",
        "      error = (x *theta.T)-y\n",
        "      # number of parameters to be calculated,here we have 2 parameters theta [0,0] and theta [0,1]\n",
        "      for j in range (parameters):\n",
        "        term = np.multiply(error , x[: , j])\n",
        "        temp[0,j] = theta[0,j] - ((alpha /len(x)) *np.sum(term))\n",
        "        \n",
        "      theta = temp\n",
        "      cost[i] = computeCost(x,y,theta)\n",
        "    \n",
        "    return theta , cost\n",
        "\n"
      ],
      "metadata": {
        "id": "_8mKXGk8tHKy"
      },
      "execution_count": 46,
      "outputs": []
    },
    {
      "cell_type": "markdown",
      "source": [],
      "metadata": {
        "id": "kk1HMWu3NPzW"
      }
    },
    {
      "cell_type": "markdown",
      "source": [
        "### Set values for learning rate and number of iterations\n",
        "- alpha here denotes the learning rate that helps to determine how quickly the algorithm\n",
        "    will converge to the optimal solution\n",
        "- iters denotes the number of iterations"
      ],
      "metadata": {
        "id": "Adv1nVcItTJs"
      }
    },
    {
      "cell_type": "code",
      "source": [
        "# take alpha 0.01\n",
        "alpha=0.01\n",
        "# iters=1000\n",
        "iters=1000\n",
        "\n",
        "\n",
        "g, cost = gradientDescent(xmat,ymat,theta,alpha,iters)\n",
        "print(g)\n",
        "print(cost)\n",
        "\n"
      ],
      "metadata": {
        "id": "FBz7ob7vtRLr",
        "outputId": "ddb45673-40d5-41a0-bc00-beb8e5bd1da0",
        "colab": {
          "base_uri": "https://localhost:8080/"
        }
      },
      "execution_count": 47,
      "outputs": [
        {
          "output_type": "stream",
          "name": "stdout",
          "text": [
            "[[-3.50770466  1.14305609]]\n",
            "[5.90146939 5.14906372 5.12066681 5.11400388 5.10801371 5.10206461\n",
            " 5.09613757 5.09023193 5.0843476  5.07848451 5.07264258 5.06682172\n",
            " 5.06102187 5.05524295 5.04948488 5.0437476  5.03803101 5.03233505\n",
            " 5.02665965 5.02100473 5.01537022 5.00975603 5.00416211 4.99858837\n",
            " 4.99303475 4.98750116 4.98198755 4.97649383 4.97101993 4.96556579\n",
            " 4.96013133 4.95471648 4.94932117 4.94394533 4.93858889 4.93325178\n",
            " 4.92793393 4.92263527 4.91735573 4.91209524 4.90685373 4.90163114\n",
            " 4.89642739 4.89124242 4.88607616 4.88092855 4.87579951 4.87068898\n",
            " 4.86559689 4.86052317 4.85546777 4.85043061 4.84541162 4.84041075\n",
            " 4.83542792 4.83046307 4.82551614 4.82058706 4.81567577 4.8107822\n",
            " 4.80590629 4.80104797 4.79620718 4.79138387 4.78657796 4.78178939\n",
            " 4.7770181  4.77226403 4.76752711 4.76280729 4.7581045  4.75341868\n",
            " 4.74874977 4.74409771 4.73946244 4.73484389 4.73024201 4.72565673\n",
            " 4.721088   4.71653576 4.71199994 4.70748049 4.70297736 4.69849047\n",
            " 4.69401977 4.6895652  4.68512671 4.68070424 4.67629772 4.67190711\n",
            " 4.66753234 4.66317336 4.65883011 4.65450253 4.65019056 4.64589416\n",
            " 4.64161326 4.63734781 4.63309775 4.62886302 4.62464358 4.62043937\n",
            " 4.61625032 4.61207639 4.60791753 4.60377367 4.59964476 4.59553076\n",
            " 4.5914316  4.58734723 4.5832776  4.57922266 4.57518235 4.57115662\n",
            " 4.56714542 4.56314869 4.55916638 4.55519844 4.55124483 4.54730548\n",
            " 4.54338034 4.53946937 4.53557251 4.53168972 4.52782093 4.52396611\n",
            " 4.5201252  4.51629814 4.5124849  4.50868542 4.50489965 4.50112754\n",
            " 4.49736904 4.4936241  4.48989268 4.48617472 4.48247018 4.47877901\n",
            " 4.47510116 4.47143658 4.46778522 4.46414704 4.46052199 4.45691002\n",
            " 4.45331109 4.44972514 4.44615213 4.44259201 4.43904475 4.43551028\n",
            " 4.43198857 4.42847956 4.42498322 4.42149949 4.41802834 4.41456971\n",
            " 4.41112356 4.40768985 4.40426853 4.40085955 4.39746288 4.39407846\n",
            " 4.39070626 4.38734623 4.38399832 4.38066249 4.3773387  4.3740269\n",
            " 4.37072705 4.36743912 4.36416304 4.36089879 4.35764632 4.35440558\n",
            " 4.35117654 4.34795916 4.34475338 4.34155917 4.33837648 4.33520529\n",
            " 4.33204553 4.32889718 4.32576019 4.32263451 4.31952012 4.31641697\n",
            " 4.31332501 4.31024421 4.30717453 4.30411593 4.30106836 4.29803179\n",
            " 4.29500618 4.29199149 4.28898767 4.2859947  4.28301252 4.28004111\n",
            " 4.27708042 4.27413041 4.27119105 4.2682623  4.26534411 4.26243646\n",
            " 4.25953929 4.25665258 4.25377629 4.25091038 4.24805481 4.24520954\n",
            " 4.24237455 4.23954978 4.2367352  4.23393079 4.23113649 4.22835227\n",
            " 4.2255781  4.22281395 4.22005977 4.21731552 4.21458118 4.21185671\n",
            " 4.20914207 4.20643722 4.20374214 4.20105678 4.19838111 4.19571509\n",
            " 4.1930587  4.19041189 4.18777463 4.18514689 4.18252864 4.17991983\n",
            " 4.17732043 4.17473042 4.17214975 4.16957839 4.16701631 4.16446348\n",
            " 4.16191986 4.15938542 4.15686012 4.15434394 4.15183684 4.14933878\n",
            " 4.14684974 4.14436968 4.14189857 4.13943638 4.13698307 4.13453862\n",
            " 4.13210298 4.12967614 4.12725805 4.12484869 4.12244802 4.12005602\n",
            " 4.11767265 4.11529788 4.11293167 4.11057401 4.10822486 4.10588418\n",
            " 4.10355194 4.10122813 4.0989127  4.09660562 4.09430687 4.09201642\n",
            " 4.08973423 4.08746028 4.08519453 4.08293696 4.08068753 4.07844622\n",
            " 4.076213   4.07398784 4.07177071 4.06956158 4.06736042 4.06516721\n",
            " 4.0629819  4.06080449 4.05863493 4.0564732  4.05431927 4.05217312\n",
            " 4.05003471 4.04790401 4.045781   4.04366566 4.04155795 4.03945784\n",
            " 4.03736531 4.03528034 4.03320289 4.03113293 4.02907044 4.0270154\n",
            " 4.02496777 4.02292753 4.02089466 4.01886912 4.01685088 4.01483994\n",
            " 4.01283624 4.01083978 4.00885053 4.00686845 4.00489352 4.00292572\n",
            " 4.00096502 3.9990114  3.99706483 3.99512528 3.99319273 3.99126715\n",
            " 3.98934853 3.98743682 3.98553202 3.98363408 3.981743   3.97985874\n",
            " 3.97798128 3.9761106  3.97424667 3.97238946 3.97053895 3.96869512\n",
            " 3.96685795 3.9650274  3.96320346 3.96138611 3.95957531 3.95777104\n",
            " 3.95597329 3.95418202 3.95239722 3.95061886 3.94884691 3.94708136\n",
            " 3.94532218 3.94356935 3.94182284 3.94008264 3.93834871 3.93662105\n",
            " 3.93489961 3.93318439 3.93147536 3.9297725  3.92807578 3.92638518\n",
            " 3.92470069 3.92302227 3.92134991 3.91968358 3.91802327 3.91636895\n",
            " 3.9147206  3.91307819 3.91144172 3.90981115 3.90818646 3.90656763\n",
            " 3.90495465 3.90334749 3.90174613 3.90015054 3.89856072 3.89697663\n",
            " 3.89539826 3.89382558 3.89225858 3.89069723 3.88914152 3.88759142\n",
            " 3.88604691 3.88450798 3.8829746  3.88144675 3.87992442 3.87840758\n",
            " 3.87689622 3.87539031 3.87388983 3.87239477 3.8709051  3.86942081\n",
            " 3.86794187 3.86646828 3.86499999 3.86353701 3.86207931 3.86062687\n",
            " 3.85917966 3.85773768 3.85630091 3.85486932 3.85344289 3.85202161\n",
            " 3.85060546 3.84919443 3.84778848 3.8463876  3.84499179 3.843601\n",
            " 3.84221524 3.84083448 3.8394587  3.83808789 3.83672202 3.83536108\n",
            " 3.83400505 3.83265391 3.83130766 3.82996625 3.82862969 3.82729796\n",
            " 3.82597102 3.82464888 3.82333151 3.82201889 3.82071101 3.81940784\n",
            " 3.81810938 3.81681561 3.8155265  3.81424205 3.81296223 3.81168703\n",
            " 3.81041643 3.80915042 3.80788897 3.80663208 3.80537972 3.80413189\n",
            " 3.80288855 3.8016497  3.80041532 3.7991854  3.79795991 3.79673885\n",
            " 3.79552219 3.79430993 3.79310203 3.7918985  3.79069931 3.78950445\n",
            " 3.7883139  3.78712764 3.78594567 3.78476796 3.7835945  3.78242528\n",
            " 3.78126027 3.78009947 3.77894286 3.77779042 3.77664214 3.775498\n",
            " 3.77435799 3.7732221  3.7720903  3.77096259 3.76983895 3.76871936\n",
            " 3.76760382 3.7664923  3.76538479 3.76428127 3.76318174 3.76208618\n",
            " 3.76099457 3.7599069  3.75882315 3.75774332 3.75666738 3.75559532\n",
            " 3.75452713 3.7534628  3.75240231 3.75134564 3.75029279 3.74924374\n",
            " 3.74819847 3.74715698 3.74611924 3.74508525 3.74405499 3.74302844\n",
            " 3.7420056  3.74098646 3.73997099 3.73895918 3.73795103 3.73694651\n",
            " 3.73594562 3.73494834 3.73395466 3.73296456 3.73197804 3.73099508\n",
            " 3.73001566 3.72903978 3.72806742 3.72709857 3.72613321 3.72517134\n",
            " 3.72421294 3.723258   3.72230651 3.72135844 3.7204138  3.71947257\n",
            " 3.71853474 3.71760028 3.7166692  3.71574148 3.71481711 3.71389608\n",
            " 3.71297836 3.71206396 3.71115286 3.71024505 3.70934051 3.70843924\n",
            " 3.70754122 3.70664644 3.70575489 3.70486655 3.70398142 3.70309949\n",
            " 3.70222074 3.70134515 3.70047273 3.69960346 3.69873732 3.69787431\n",
            " 3.69701442 3.69615762 3.69530392 3.6944533  3.69360575 3.69276125\n",
            " 3.69191981 3.6910814  3.69024602 3.68941365 3.68858428 3.68775791\n",
            " 3.68693452 3.6861141  3.68529664 3.68448213 3.68367056 3.68286192\n",
            " 3.68205619 3.68125338 3.68045346 3.67965643 3.67886227 3.67807098\n",
            " 3.67728255 3.67649696 3.6757142  3.67493427 3.67415716 3.67338284\n",
            " 3.67261133 3.67184259 3.67107663 3.67031344 3.669553   3.6687953\n",
            " 3.66804034 3.6672881  3.66653858 3.66579176 3.66504763 3.66430619\n",
            " 3.66356743 3.66283133 3.66209789 3.6613671  3.66063894 3.65991341\n",
            " 3.6591905  3.65847019 3.65775249 3.65703738 3.65632484 3.65561488\n",
            " 3.65490748 3.65420263 3.65350033 3.65280056 3.65210332 3.65140859\n",
            " 3.65071637 3.65002664 3.64933941 3.64865465 3.64797237 3.64729255\n",
            " 3.64661518 3.64594025 3.64526777 3.6445977  3.64393006 3.64326483\n",
            " 3.64260199 3.64194155 3.64128349 3.64062781 3.63997449 3.63932353\n",
            " 3.63867492 3.63802864 3.63738471 3.63674309 3.63610379 3.6354668\n",
            " 3.6348321  3.6341997  3.63356958 3.63294173 3.63231615 3.63169282\n",
            " 3.63107175 3.63045291 3.62983631 3.62922193 3.62860978 3.62799982\n",
            " 3.62739208 3.62678652 3.62618315 3.62558196 3.62498293 3.62438607\n",
            " 3.62379136 3.6231988  3.62260837 3.62202008 3.62143391 3.62084985\n",
            " 3.62026791 3.61968806 3.6191103  3.61853463 3.61796104 3.61738951\n",
            " 3.61682005 3.61625265 3.61568729 3.61512397 3.61456269 3.61400342\n",
            " 3.61344618 3.61289095 3.61233772 3.61178649 3.61123725 3.61068999\n",
            " 3.61014471 3.60960139 3.60906003 3.60852063 3.60798317 3.60744765\n",
            " 3.60691407 3.60638241 3.60585267 3.60532484 3.60479891 3.60427489\n",
            " 3.60375275 3.6032325  3.60271412 3.60219762 3.60168298 3.6011702\n",
            " 3.60065927 3.60015018 3.59964293 3.5991375  3.59863391 3.59813213\n",
            " 3.59763216 3.59713399 3.59663763 3.59614305 3.59565026 3.59515924\n",
            " 3.59467    3.59418253 3.59369681 3.59321285 3.59273063 3.59225015\n",
            " 3.59177141 3.59129439 3.5908191  3.59034552 3.58987365 3.58940348\n",
            " 3.58893501 3.58846823 3.58800313 3.58753971 3.58707797 3.58661789\n",
            " 3.58615947 3.5857027  3.58524759 3.58479411 3.58434227 3.58389207\n",
            " 3.58344348 3.58299652 3.58255117 3.58210742 3.58166528 3.58122473\n",
            " 3.58078578 3.5803484  3.57991261 3.57947838 3.57904573 3.57861463\n",
            " 3.5781851  3.57775711 3.57733066 3.57690576 3.57648238 3.57606054\n",
            " 3.57564022 3.57522141 3.57480412 3.57438833 3.57397404 3.57356125\n",
            " 3.57314995 3.57274013 3.57233179 3.57192492 3.57151952 3.57111559\n",
            " 3.57071311 3.57031208 3.5699125  3.56951437 3.56911767 3.5687224\n",
            " 3.56832856 3.56793614 3.56754513 3.56715554 3.56676735 3.56638056\n",
            " 3.56599517 3.56561117 3.56522856 3.56484732 3.56446746 3.56408898\n",
            " 3.56371185 3.56333609 3.56296169 3.56258863 3.56221693 3.56184656\n",
            " 3.56147753 3.56110983 3.56074346 3.56037841 3.56001468 3.55965226\n",
            " 3.55929115 3.55893134 3.55857283 3.55821561 3.55785969 3.55750504\n",
            " 3.55715168 3.55679959 3.55644877 3.55609922 3.55575093 3.5554039\n",
            " 3.55505812 3.55471358 3.55437029 3.55402824 3.55368743 3.55334784\n",
            " 3.55300948 3.55267234 3.55233641 3.5520017  3.5516682  3.5513359\n",
            " 3.55100479 3.55067489 3.55034617 3.55001864 3.54969229 3.54936712\n",
            " 3.54904313 3.5487203  3.54839864 3.54807813 3.54775879 3.5474406\n",
            " 3.54712355 3.54680765 3.54649289 3.54617926 3.54586677 3.5455554\n",
            " 3.54524516 3.54493604 3.54462803 3.54432114 3.54401535 3.54371066\n",
            " 3.54340708 3.54310459 3.54280319 3.54250288 3.54220365 3.54190551\n",
            " 3.54160844 3.54131244 3.54101751 3.54072364 3.54043083 3.54013908\n",
            " 3.53984839 3.53955874 3.53927014 3.53898258 3.53869605 3.53841056\n",
            " 3.5381261  3.53784267 3.53756026 3.53727887 3.53699849 3.53671913\n",
            " 3.53644077 3.53616342 3.53588707 3.53561172 3.53533736 3.53506399\n",
            " 3.53479161 3.53452021 3.53424979 3.53398034 3.53371187 3.53344437\n",
            " 3.53317783 3.53291225 3.53264763 3.53238397 3.53212126 3.53185949\n",
            " 3.53159867 3.5313388  3.53107986 3.53082185 3.53056477 3.53030863\n",
            " 3.5300534  3.5297991  3.52954572 3.52929325 3.52904169 3.52879104\n",
            " 3.52854129 3.52829245 3.5280445  3.52779745 3.52755129 3.52730601\n",
            " 3.52706163 3.52681812 3.52657549 3.52633374 3.52609286 3.52585285\n",
            " 3.52561371 3.52537543 3.52513801 3.52490144 3.52466573 3.52443087\n",
            " 3.52419686 3.52396369 3.52373136 3.52349988 3.52326922 3.5230394\n",
            " 3.52281041 3.52258225 3.5223549  3.52212838 3.52190268 3.52167779\n",
            " 3.52145371 3.52123044 3.52100798 3.52078632 3.52056546 3.52034539\n",
            " 3.52012612 3.51990764 3.51968995 3.51947305 3.51925693 3.51904159\n",
            " 3.51882702 3.51861323 3.51840021 3.51818796 3.51797648 3.51776576\n",
            " 3.51755579 3.51734659 3.51713814 3.51693045 3.5167235  3.5165173\n",
            " 3.51631184 3.51610713 3.51590315 3.51569991 3.51549741 3.51529563\n",
            " 3.51509459 3.51489426 3.51469466 3.51449579 3.51429763 3.51410018\n",
            " 3.51390345 3.51370742 3.51351211 3.51331749 3.51312359 3.51293038\n",
            " 3.51273786 3.51254605 3.51235492 3.51216449 3.51197474 3.51178567\n",
            " 3.51159729 3.51140959 3.51122257 3.51103622 3.51085054 3.51066553\n",
            " 3.51048119 3.51029752 3.51011451 3.50993216 3.50975047 3.50956943\n",
            " 3.50938904 3.50920931 3.50903023 3.50885179 3.508674   3.50849684\n",
            " 3.50832033 3.50814445 3.50796921 3.5077946  3.50762062 3.50744727\n",
            " 3.50727455 3.50710244 3.50693096 3.5067601  3.50658985 3.50642022\n",
            " 3.5062512  3.50608279 3.50591499 3.50574779 3.5055812  3.50541521\n",
            " 3.50524981 3.50508502 3.50492082 3.50475721]\n"
          ]
        }
      ]
    },
    {
      "cell_type": "markdown",
      "source": [
        "\n",
        "\n",
        "\n",
        "### Using Matplotlib library to visualize our solution using scatter plot"
      ],
      "metadata": {
        "id": "W3HlzF5pt_0Z"
      }
    },
    {
      "cell_type": "code",
      "source": [
        "# linspace function will create an evenly-spaced series of points within the range of our data\n",
        "x2 = np.linspace(df.Population.min(), df.Population.max(), 100)  \n",
        "f = g[0, 0] + (g[0, 1] * x2)\n",
        "\n",
        "fig, ax = plt.subplots(figsize=(10, 7))  \n",
        "ax.plot(x2, f, 'r', label='Prediction')  \n",
        "ax.scatter(df.Population, df.Profit, label='Traning Data')  \n",
        "ax.legend(loc=2)  \n",
        "ax.set_xlabel('Population')  \n",
        "ax.set_ylabel('Profit')  \n",
        "ax.set_title('Predicted Profit vs. Population Size')\n"
      ],
      "metadata": {
        "id": "gXP5psuyuAPr",
        "colab": {
          "base_uri": "https://localhost:8080/",
          "height": 476
        },
        "outputId": "2041ebb3-1365-47f0-e3c7-123d24842f64"
      },
      "execution_count": 48,
      "outputs": [
        {
          "output_type": "execute_result",
          "data": {
            "text/plain": [
              "Text(0.5, 1.0, 'Predicted Profit vs. Population Size')"
            ]
          },
          "metadata": {},
          "execution_count": 48
        },
        {
          "output_type": "display_data",
          "data": {
            "text/plain": [
              "<Figure size 720x504 with 1 Axes>"
            ],
            "image/png": "[encoded data removed]"
          },
          "metadata": {
            "needs_background": "light"
          }
        }
      ]
    },
    {
      "cell_type": "code",
      "source": [
        "fig, ax = plt.subplots(figsize = (12, 8))\n",
        "ax.plot(np.arange(iters), cost, 'r')\n",
        "ax.set_xlabel('Iterations')\n",
        "ax.set_ylabel('Cost')\n",
        "ax.set_title('Error vs Training epoch')"
      ],
      "metadata": {
        "id": "iaOPcKBtuG7v",
        "colab": {
          "base_uri": "https://localhost:8080/",
          "height": 531
        },
        "outputId": "24a95772-cc39-4447-8b6d-bad3432172d3"
      },
      "execution_count": 49,
      "outputs": [
        {
          "output_type": "execute_result",
          "data": {
            "text/plain": [
              "Text(0.5, 1.0, 'Error vs Training epoch')"
            ]
          },
          "metadata": {},
          "execution_count": 49
        },
        {
          "output_type": "display_data",
          "data": {
            "text/plain": [
              "<Figure size 864x576 with 1 Axes>"
            ],
            "image/png": "[encoded data removed]"
          },
          "metadata": {
            "needs_background": "light"
          }
        }
      ]
    },
    {
      "cell_type": "markdown",
      "source": [
        "SCIKIT LEARN IMPLEMENTATION\n",
        "\n",
        "-Implement various type of errors,\n",
        " eg.Mean squared error,R_squared_score\n",
        "choose best for the evaluting model,\n",
        "and justify why it is best\n"
      ],
      "metadata": {
        "id": "jgmRYwlXWEX4"
      }
    },
    {
      "cell_type": "code",
      "source": [
        "#fit the model\n",
        "\n",
        "from sklearn.model_selection import train_test_split\n",
        "X_train, X_test, y_train, y_test = train_test_split(x, y, test_size=0.4, random_state=101)\n",
        "\n",
        "from sklearn.linear_model import LinearRegression as lr\n",
        "model =lr()\n",
        "model.fit(X_train,y_train)"
      ],
      "metadata": {
        "id": "_-Z2iJXUWDvk",
        "colab": {
          "base_uri": "https://localhost:8080/",
          "height": 75
        },
        "outputId": "36de61a9-ed53-4182-e01b-63732def8a6d"
      },
      "execution_count": 50,
      "outputs": [
        {
          "output_type": "execute_result",
          "data": {
            "text/plain": [
              "LinearRegression()"
            ],
            "text/html": [
              "<style>#sk-container-id-2 {color: black;background-color: white;}#sk-container-id-2 pre{padding: 0;}#sk-container-id-2 div.sk-toggleable {background-color: white;}#sk-container-id-2 label.sk-toggleable__label {cursor: pointer;display: block;width: 100%;margin-bottom: 0;padding: 0.3em;box-sizing: border-box;text-align: center;}#sk-container-id-2 label.sk-toggleable__label-arrow:before {content: \"▸\";float: left;margin-right: 0.25em;color: #696969;}#sk-container-id-2 label.sk-toggleable__label-arrow:hover:before {color: black;}#sk-container-id-2 div.sk-estimator:hover label.sk-toggleable__label-arrow:before {color: black;}#sk-container-id-2 div.sk-toggleable__content {max-height: 0;max-width: 0;overflow: hidden;text-align: left;background-color: #f0f8ff;}#sk-container-id-2 div.sk-toggleable__content pre {margin: 0.2em;color: black;border-radius: 0.25em;background-color: #f0f8ff;}#sk-container-id-2 input.sk-toggleable__control:checked~div.sk-toggleable__content {max-height: 200px;max-width: 100%;overflow: auto;}#sk-container-id-2 input.sk-toggleable__control:checked~label.sk-toggleable__label-arrow:before {content: \"▾\";}#sk-container-id-2 div.sk-estimator input.sk-toggleable__control:checked~label.sk-toggleable__label {background-color: #d4ebff;}#sk-container-id-2 div.sk-label input.sk-toggleable__control:checked~label.sk-toggleable__label {background-color: #d4ebff;}#sk-container-id-2 input.sk-hidden--visually {border: 0;clip: rect(1px 1px 1px 1px);clip: rect(1px, 1px, 1px, 1px);height: 1px;margin: -1px;overflow: hidden;padding: 0;position: absolute;width: 1px;}#sk-container-id-2 div.sk-estimator {font-family: monospace;background-color: #f0f8ff;border: 1px dotted black;border-radius: 0.25em;box-sizing: border-box;margin-bottom: 0.5em;}#sk-container-id-2 div.sk-estimator:hover {background-color: #d4ebff;}#sk-container-id-2 div.sk-parallel-item::after {content: \"\";width: 100%;border-bottom: 1px solid gray;flex-grow: 1;}#sk-container-id-2 div.sk-label:hover label.sk-toggleable__label {background-color: #d4ebff;}#sk-container-id-2 div.sk-serial::before {content: \"\";position: absolute;border-left: 1px solid gray;box-sizing: border-box;top: 0;bottom: 0;left: 50%;z-index: 0;}#sk-container-id-2 div.sk-serial {display: flex;flex-direction: column;align-items: center;background-color: white;padding-right: 0.2em;padding-left: 0.2em;position: relative;}#sk-container-id-2 div.sk-item {position: relative;z-index: 1;}#sk-container-id-2 div.sk-parallel {display: flex;align-items: stretch;justify-content: center;background-color: white;position: relative;}#sk-container-id-2 div.sk-item::before, #sk-container-id-2 div.sk-parallel-item::before {content: \"\";position: absolute;border-left: 1px solid gray;box-sizing: border-box;top: 0;bottom: 0;left: 50%;z-index: -1;}#sk-container-id-2 div.sk-parallel-item {display: flex;flex-direction: column;z-index: 1;position: relative;background-color: white;}#sk-container-id-2 div.sk-parallel-item:first-child::after {align-self: flex-end;width: 50%;}#sk-container-id-2 div.sk-parallel-item:last-child::after {align-self: flex-start;width: 50%;}#sk-container-id-2 div.sk-parallel-item:only-child::after {width: 0;}#sk-container-id-2 div.sk-dashed-wrapped {border: 1px dashed gray;margin: 0 0.4em 0.5em 0.4em;box-sizing: border-box;padding-bottom: 0.4em;background-color: white;}#sk-container-id-2 div.sk-label label {font-family: monospace;font-weight: bold;display: inline-block;line-height: 1.2em;}#sk-container-id-2 div.sk-label-container {text-align: center;}#sk-container-id-2 div.sk-container {/* jupyter's `normalize.less` sets `[hidden] { display: none; }` but bootstrap.min.css set `[hidden] { display: none !important; }` so we also need the `!important` here to be able to override the default hidden behavior on the sphinx rendered scikit-learn.org. See: https://github.com/scikit-learn/scikit-learn/issues/21755 */display: inline-block !important;position: relative;}#sk-container-id-2 div.sk-text-repr-fallback {display: none;}</style><div id=\"sk-container-id-2\" class=\"sk-top-container\"><div class=\"sk-text-repr-fallback\"><pre>LinearRegression()</pre><b>In a Jupyter environment, please rerun this cell to show the HTML representation or trust the notebook. <br />On GitHub, the HTML representation is unable to render, please try loading this page with nbviewer.org.</b></div><div class=\"sk-container\" hidden><div class=\"sk-item\"><div class=\"sk-estimator sk-toggleable\"><input class=\"sk-toggleable__control sk-hidden--visually\" id=\"sk-estimator-id-2\" type=\"checkbox\" checked><label for=\"sk-estimator-id-2\" class=\"sk-toggleable__label sk-toggleable__label-arrow\">LinearRegression</label><div class=\"sk-toggleable__content\"><pre>LinearRegression()</pre></div></div></div></div></div>"
            ]
          },
          "metadata": {},
          "execution_count": 50
        }
      ]
    },
    {
      "cell_type": "code",
      "source": [
        "#predict the target values\n",
        "predictions = model.predict(X_test)\n",
        "plt.scatter(y_test,predictions)"
      ],
      "metadata": {
        "id": "EKb8ME-ma-ex",
        "colab": {
          "base_uri": "https://localhost:8080/",
          "height": 283
        },
        "outputId": "51c95570-fa44-44fb-eb97-3e7fb556f8f4"
      },
      "execution_count": 51,
      "outputs": [
        {
          "output_type": "execute_result",
          "data": {
            "text/plain": [
              "<matplotlib.collections.PathCollection at 0x7f4d18b1aeb0>"
            ]
          },
          "metadata": {},
          "execution_count": 51
        },
        {
          "output_type": "display_data",
          "data": {
            "text/plain": [
              "<Figure size 432x288 with 1 Axes>"
            ],
            "image/png": "[encoded data removed]"
          },
          "metadata": {
            "needs_background": "light"
          }
        }
      ]
    },
    {
      "cell_type": "code",
      "source": [
        "#evaluate the model\n",
        "from sklearn import metrics\n",
        "print('MAE:', metrics.mean_absolute_error(y_test, predictions))\n",
        "print('MSE:', metrics.mean_squared_error(y_test, predictions))\n",
        "print('RMSE:', np.sqrt(metrics.mean_squared_error(y_test, predictions)))"
      ],
      "metadata": {
        "id": "9mxBzwgnbF3Y",
        "colab": {
          "base_uri": "https://localhost:8080/"
        },
        "outputId": "ab6b4b80-54e5-48af-fb86-7dbf9fd75cc6"
      },
      "execution_count": 52,
      "outputs": [
        {
          "output_type": "stream",
          "name": "stdout",
          "text": [
            "MAE: 2.2841255455612144\n",
            "MSE: 8.938309813086402\n",
            "RMSE: 2.989700622652108\n"
          ]
        }
      ]
    },
    {
      "cell_type": "code",
      "source": [
        "#since the MAE error is the least, its the best for evaluating the model\n",
        "#idk if theres any other way to find out which error is the best as asked in the question"
      ],
      "metadata": {
        "id": "ya-VXcfazPgF"
      },
      "execution_count": 53,
      "outputs": []
    }
  ]
}