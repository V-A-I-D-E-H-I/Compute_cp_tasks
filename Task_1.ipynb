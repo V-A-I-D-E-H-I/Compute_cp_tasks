{
  "cells": [
    {
      "cell_type": "code",
      "execution_count": null,
      "metadata": {
        "colab": {
          "background_save": true
        },
        "id": "TNRAJX5A7p5S"
      },
      "outputs": [],
      "source": [
        "N=int(input())\n",
        "X=int(input())\n",
        "listofmarks=[]\n",
        "for i in range(int(x)):\n",
        "    listofmarks = input(\"Enter Subject marks separated by spaces: \").split()\n",
        "    for i in range(len(listofmarks)):\n",
        "        listofmarks[i]=float(listofmarks[i])\n",
        "    student_marks.append(listofmarks)\n",
        "    \n",
        "    for i in zip(*listofmarks):\n",
        "        print(\"Avgerage=\",sum(i)/len(i)))\n"
      ]
    },
    {
      "cell_type": "code",
      "execution_count": null,
      "metadata": {
        "colab": {
          "background_save": true
        },
        "id": "iEBrBnX37lgx"
      },
      "outputs": [],
      "source": [
        "N = int(input())\n",
        "list=[]\n",
        "for i in range(N):\n",
        "    s=str(input).split()  #s is a list\n",
        "if (s[0]=='insert'):\n",
        "    list.insert(int(s[1]),int(s[2]))\n",
        "elif (s[0]=='print'):\n",
        "    print(list,'\\n')\n",
        "elif (s[0]=='remove'):\n",
        "    list.remove(int(s[1]))\n",
        "elif (s[0]=='append'):\n",
        "    list.append(int(s[1]))\n",
        "elif (s[0]=='sort'):\n",
        "    list.sort()\n",
        "elif (s[0]=='pop'):\n",
        "    list.pop()  \n",
        "elif (s[0]=='reverse'):\n",
        "    list.reverse()\n"
      ]
    },
    {
      "cell_type": "code",
      "execution_count": null,
      "metadata": {
        "colab": {
          "background_save": true
        },
        "id": "zg1DkKwQ7cNg"
      },
      "outputs": [],
      "source": [
        "n = int(input())\n",
        "    avg = {}\n",
        "    for i in range(n):\n",
        "        name, marks = input().split()[0],input().split()[1:]\n",
        "        marks = list(map(float, marks))\n",
        "        for i in range(len(marks)):\n",
        "            sum+=marks[i]\n",
        "        avg[name] = sum/len(marks)\n",
        "    qname = input()\n",
        "    for key in avg:\n",
        "        if(qname==key):\n",
        "            print(avg[name])\n"
      ]
    },
    {
      "cell_type": "code",
      "execution_count": null,
      "metadata": {
        "colab": {
          "base_uri": "https://localhost:8080/",
          "height": 380
        },
        "id": "A2MnZ5pDu3xa",
        "outputId": "09b7c571-fb50-4678-f3a6-7b3cffecbc2f"
      },
      "outputs": [
        {
          "ename": "KeyboardInterrupt",
          "evalue": "ignored",
          "output_type": "error",
          "traceback": [
            "\u001b[0;31m---------------------------------------------------------------------------\u001b[0m",
            "\u001b[0;31mKeyboardInterrupt\u001b[0m                         Traceback (most recent call last)",
            "\u001b[0;32m<ipython-input-7-414ab67bc432>\u001b[0m in \u001b[0;36m<module>\u001b[0;34m\u001b[0m\n\u001b[1;32m     32\u001b[0m     \u001b[0;32mreturn\u001b[0m \u001b[0mlist\u001b[0m\u001b[0;34m(\u001b[0m\u001b[0mfilter\u001b[0m\u001b[0;34m(\u001b[0m\u001b[0mvalid\u001b[0m\u001b[0;34m,\u001b[0m \u001b[0memails\u001b[0m\u001b[0;34m)\u001b[0m\u001b[0;34m)\u001b[0m\u001b[0;34m\u001b[0m\u001b[0;34m\u001b[0m\u001b[0m\n\u001b[1;32m     33\u001b[0m \u001b[0;34m\u001b[0m\u001b[0m\n\u001b[0;32m---> 34\u001b[0;31m \u001b[0mn\u001b[0m \u001b[0;34m=\u001b[0m \u001b[0mint\u001b[0m\u001b[0;34m(\u001b[0m\u001b[0minput\u001b[0m\u001b[0;34m(\u001b[0m\u001b[0;34m)\u001b[0m\u001b[0;34m)\u001b[0m\u001b[0;34m\u001b[0m\u001b[0;34m\u001b[0m\u001b[0m\n\u001b[0m\u001b[1;32m     35\u001b[0m \u001b[0memails\u001b[0m \u001b[0;34m=\u001b[0m \u001b[0;34m[\u001b[0m\u001b[0;34m]\u001b[0m\u001b[0;34m\u001b[0m\u001b[0;34m\u001b[0m\u001b[0m\n\u001b[1;32m     36\u001b[0m \u001b[0;32mfor\u001b[0m \u001b[0mi\u001b[0m \u001b[0;32min\u001b[0m \u001b[0mrange\u001b[0m\u001b[0;34m(\u001b[0m\u001b[0mn\u001b[0m\u001b[0;34m)\u001b[0m\u001b[0;34m:\u001b[0m\u001b[0;34m\u001b[0m\u001b[0;34m\u001b[0m\u001b[0m\n",
            "\u001b[0;32m/usr/local/lib/python3.7/dist-packages/ipykernel/kernelbase.py\u001b[0m in \u001b[0;36mraw_input\u001b[0;34m(self, prompt)\u001b[0m\n\u001b[1;32m    861\u001b[0m             \u001b[0mself\u001b[0m\u001b[0;34m.\u001b[0m\u001b[0m_parent_ident\u001b[0m\u001b[0;34m,\u001b[0m\u001b[0;34m\u001b[0m\u001b[0;34m\u001b[0m\u001b[0m\n\u001b[1;32m    862\u001b[0m             \u001b[0mself\u001b[0m\u001b[0;34m.\u001b[0m\u001b[0m_parent_header\u001b[0m\u001b[0;34m,\u001b[0m\u001b[0;34m\u001b[0m\u001b[0;34m\u001b[0m\u001b[0m\n\u001b[0;32m--> 863\u001b[0;31m             \u001b[0mpassword\u001b[0m\u001b[0;34m=\u001b[0m\u001b[0;32mFalse\u001b[0m\u001b[0;34m,\u001b[0m\u001b[0;34m\u001b[0m\u001b[0;34m\u001b[0m\u001b[0m\n\u001b[0m\u001b[1;32m    864\u001b[0m         )\n\u001b[1;32m    865\u001b[0m \u001b[0;34m\u001b[0m\u001b[0m\n",
            "\u001b[0;32m/usr/local/lib/python3.7/dist-packages/ipykernel/kernelbase.py\u001b[0m in \u001b[0;36m_input_request\u001b[0;34m(self, prompt, ident, parent, password)\u001b[0m\n\u001b[1;32m    902\u001b[0m             \u001b[0;32mexcept\u001b[0m \u001b[0mKeyboardInterrupt\u001b[0m\u001b[0;34m:\u001b[0m\u001b[0;34m\u001b[0m\u001b[0;34m\u001b[0m\u001b[0m\n\u001b[1;32m    903\u001b[0m                 \u001b[0;31m# re-raise KeyboardInterrupt, to truncate traceback\u001b[0m\u001b[0;34m\u001b[0m\u001b[0;34m\u001b[0m\u001b[0;34m\u001b[0m\u001b[0m\n\u001b[0;32m--> 904\u001b[0;31m                 \u001b[0;32mraise\u001b[0m \u001b[0mKeyboardInterrupt\u001b[0m\u001b[0;34m(\u001b[0m\u001b[0;34m\"Interrupted by user\"\u001b[0m\u001b[0;34m)\u001b[0m \u001b[0;32mfrom\u001b[0m \u001b[0;32mNone\u001b[0m\u001b[0;34m\u001b[0m\u001b[0;34m\u001b[0m\u001b[0m\n\u001b[0m\u001b[1;32m    905\u001b[0m             \u001b[0;32mexcept\u001b[0m \u001b[0mException\u001b[0m \u001b[0;32mas\u001b[0m \u001b[0me\u001b[0m\u001b[0;34m:\u001b[0m\u001b[0;34m\u001b[0m\u001b[0;34m\u001b[0m\u001b[0m\n\u001b[1;32m    906\u001b[0m                 \u001b[0mself\u001b[0m\u001b[0;34m.\u001b[0m\u001b[0mlog\u001b[0m\u001b[0;34m.\u001b[0m\u001b[0mwarning\u001b[0m\u001b[0;34m(\u001b[0m\u001b[0;34m\"Invalid Message:\"\u001b[0m\u001b[0;34m,\u001b[0m \u001b[0mexc_info\u001b[0m\u001b[0;34m=\u001b[0m\u001b[0;32mTrue\u001b[0m\u001b[0;34m)\u001b[0m\u001b[0;34m\u001b[0m\u001b[0;34m\u001b[0m\u001b[0m\n",
            "\u001b[0;31mKeyboardInterrupt\u001b[0m: Interrupted by user"
          ]
        }
      ],
      "source": [
        "def valid(st):\n",
        "    flag = True\n",
        "    if (st.count('.')==1):\n",
        "      uw, extension = st.split('.')\n",
        "      if(len(extension)==3):\n",
        "        for x in len(extension):\n",
        "          if(x.isalpha==False):\n",
        "            flag=False\n",
        "            return False\n",
        "      else:\n",
        "        return False\n",
        "\n",
        "      if(uw.count('@')==1):\n",
        "        username,website=uw.split('@')\n",
        "        \n",
        "        for x in len(website):\n",
        "          if not(x.isalnum() or x=='_'or x=='-'):\n",
        "            return False\n",
        "        for x in len(username):\n",
        "          if not(x.isalnum()):\n",
        "            return False\n",
        "\n",
        "      else:\n",
        "        return False\n",
        "    else:\n",
        "      return False\n",
        "      \n",
        "    return True\n",
        "      \n",
        "def filter_mail(emails):\n",
        "    return list(filter(valid, emails))\n",
        "\n",
        "n = int(input())\n",
        "emails = []\n",
        "for _ in range(n):\n",
        "  emails.append(input())\n",
        "\n",
        "filtered_emails = filter_mail(emails)\n",
        "filtered_emails.sort()\n",
        "print(filtered_emails)"
      ]
    },
    {
      "cell_type": "code",
      "execution_count": null,
      "metadata": {
        "id": "Cr2V8YRD3u96"
      },
      "outputs": [],
      "source": [
        "def mutate_string(string, position, c):\n",
        "    print(string[:position]+\"c\"+string[position+1:])\n",
        "\n",
        "    string = input()\n",
        "    position, c = input().split()\n",
        "    index=int(index)\n",
        "    newstring = mutate_string(string, position, c)\n"
      ]
    },
    {
      "cell_type": "code",
      "execution_count": null,
      "metadata": {
        "colab": {
          "background_save": true
        },
        "id": "Ud4GLfpx0F0j"
      },
      "outputs": [],
      "source": [
        "l=input().split(',')\n",
        "if(int(l[0])==int(l[-1])):\n",
        "  print(\"yes\")\n",
        "else:\n",
        "  print(\"no\")\n",
        "\n",
        "\n"
      ]
    },
    {
      "cell_type": "code",
      "source": [
        "n=int(input())\n",
        "for i in range(n):\n",
        "  for j in range(n):\n",
        "    print(j,\" \")\n",
        "  print(\"\\n\")"
      ],
      "metadata": {
        "id": "kBLxOYNXCRYV"
      },
      "execution_count": null,
      "outputs": []
    }
  ],
  "metadata": {
    "colab": {
      "provenance": []
    },
    "kernelspec": {
      "display_name": "Python 3",
      "name": "python3"
    },
    "language_info": {
      "name": "python"
    }
  },
  "nbformat": 4,
  "nbformat_minor": 0
}